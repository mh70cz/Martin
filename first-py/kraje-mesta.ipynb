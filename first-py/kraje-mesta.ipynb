{
 "cells": [
  {
   "cell_type": "code",
   "execution_count": 93,
   "metadata": {},
   "outputs": [],
   "source": [
    "from random import shuffle"
   ]
  },
  {
   "cell_type": "code",
   "execution_count": 94,
   "metadata": {},
   "outputs": [],
   "source": [
    "text = \"\"\"\n",
    "Praha - mapa, počasí, počet obyvatel\n",
    "Praha - mapa, počasí, počet obyvatel\n",
    "Plzeň - mapa, počasí, počet obyvatel\n",
    "České Budějovice - mapa, počasí, počet obyvatel\n",
    "Karlovy Vary - mapa, počasí, počet obyvatel\n",
    "Ústí nad Labem - mapa, počasí, počet obyvatel\n",
    "Liberec - mapa, počasí, počet obyvatel\n",
    "Hradec Králové - mapa, počasí, počet obyvatel\n",
    "Pardubice - mapa, počasí, počet obyvatel\n",
    "Jihlava - mapa, počasí, počet obyvatel\n",
    "Brno - mapa, počasí, počet obyvatel\n",
    "Olomouc - mapa, počasí, počet obyvatel\n",
    "Zlín - mapa, počasí, počet obyvatel\n",
    "Ostrava - mapa, počasí, počet obyvatel\n",
    "\"\"\"\n",
    "\n"
   ]
  },
  {
   "cell_type": "code",
   "execution_count": 95,
   "metadata": {},
   "outputs": [],
   "source": [
    "lines = text.splitlines()\n",
    "cities = []\n",
    "for line in lines:\n",
    "    city = line.split(\"-\")[0]\n",
    "    city = city.strip()\n",
    "    if city != \"\":\n",
    "        cities.append(city)\n",
    "shuffle(cities)        "
   ]
  },
  {
   "cell_type": "code",
   "execution_count": 96,
   "metadata": {},
   "outputs": [],
   "source": [
    "textKraje = \"\"\"\n",
    "Hlavní město Praha\t157 771\t243 715\t60 600\t462 086\n",
    "Středočeský kraj\t28 959\t191 907\t29 070\t249 936\n",
    "Jihočeský kraj\t12 980\t94 576\t16 821\t124 377\n",
    "Plzeňský kraj\t12 859\t84 094\t15 958\t112 911\n",
    "Karlovarský kraj\t8 397\t42 429\t9 111\t59 937\n",
    "Ústecký kraj\t15 090\t98 541\t17 845\t131 476\n",
    "Liberecký kraj\t9 480\t71 740\t10 142\t91 362\n",
    "Královéhradecký kraj\t10 645\t76 876\t13 137\t100 658\n",
    "Pardubický kraj\t8 781\t71 305\t12 097\t92 183\n",
    "Kraj Vysočina\t7 046\t64 947\t11 765\t83 758\n",
    "Jihomoravský kraj\t39 352\t167 515\t28 831\t235 698\n",
    "Olomoucký kraj\t10 813\t84 330\t13 525\t108 668\n",
    "Zlínský kraj\t12 223\t84 994\t11 514\t108 731\n",
    "Moravskoslezský kraj\t12 223\t84 994\t11 514\t108 731\n",
    "\"\"\""
   ]
  },
  {
   "cell_type": "code",
   "execution_count": 97,
   "metadata": {},
   "outputs": [],
   "source": [
    "lines = textKraje.splitlines()\n",
    "kraje = []\n",
    "for line in lines:\n",
    "    kraj = line.split(\"\\t\")[0]\n",
    "    kraj = kraj.strip()\n",
    "    if kraj != \"\":\n",
    "        kraje.append(kraj)\n",
    "shuffle(kraje) "
   ]
  },
  {
   "cell_type": "code",
   "execution_count": 99,
   "metadata": {},
   "outputs": [
    {
     "name": "stdout",
     "output_type": "stream",
     "text": [
      "Kraj                                         \tMěsto\n",
      "---------------------------------------------------------------------------\n",
      "Kraj Vysočina                                \tKarlovy Vary\n",
      "Středočeský kraj                             \tPraha\n",
      "Olomoucký kraj                               \tZlín\n",
      "Moravskoslezský kraj                         \tBrno\n",
      "Jihomoravský kraj                            \tOlomouc\n",
      "Královéhradecký kraj                         \tÚstí nad Labem\n",
      "Ústecký kraj                                 \tPraha\n",
      "Plzeňský kraj                                \tČeské Budějovice\n",
      "Hlavní město Praha                           \tPlzeň\n",
      "Zlínský kraj                                 \tPardubice\n",
      "Pardubický kraj                              \tLiberec\n",
      "Karlovarský kraj                             \tOstrava\n",
      "Jihočeský kraj                               \tJihlava\n",
      "Liberecký kraj                               \tHradec Králové\n",
      "\n"
     ]
    }
   ],
   "source": [
    "# Adjust the table formatting to consider different lengths of Kraj members\n",
    "max_kraj_length = max(len(k) for k in kraje)\n",
    "table = \"Kraj\" + \" \" * (max_kraj_length - len(\"Kraj\")+25) + \"\\tMěsto\\n\"\n",
    "table += \"-\" * (max_kraj_length + 55) + \"\\n\"\n",
    "for k, m in zip(kraje, cities):\n",
    "    table += f\"{k}{' ' * (max_kraj_length - len(k)+25)}\\t{m}\\n\"\n",
    "print(table)"
   ]
  }
 ],
 "metadata": {
  "kernelspec": {
   "display_name": "Python 3",
   "language": "python",
   "name": "python3"
  },
  "language_info": {
   "codemirror_mode": {
    "name": "ipython",
    "version": 3
   },
   "file_extension": ".py",
   "mimetype": "text/x-python",
   "name": "python",
   "nbconvert_exporter": "python",
   "pygments_lexer": "ipython3",
   "version": "3.13.0"
  }
 },
 "nbformat": 4,
 "nbformat_minor": 2
}
