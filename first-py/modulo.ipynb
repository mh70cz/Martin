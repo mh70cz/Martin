{
 "cells": [
  {
   "cell_type": "markdown",
   "metadata": {},
   "source": [
    "Modulo operator %  \n",
    "Vypočítá **zbytek** po **celočíselném** dělení.\n",
    "\n",
    "11 % 3 = 2  \n",
    "5 % 2 = 1  \n",
    "4 % 2 = 0  "
   ]
  },
  {
   "cell_type": "code",
   "execution_count": 4,
   "metadata": {},
   "outputs": [
    {
     "name": "stdout",
     "output_type": "stream",
     "text": [
      "This digit is odd.\n"
     ]
    }
   ],
   "source": [
    "digit = 5\n",
    "\n",
    "if digit % 2 == 0:\n",
    "    print(\"This digit is even.\")\n",
    "else:\n",
    "    print(\"This digit is odd.\")"
   ]
  },
  {
   "cell_type": "markdown",
   "metadata": {},
   "source": [
    "---\n",
    "\n",
    "\n",
    "\n",
    "Uprav progam tak, aby zjistil, zda je číslo dělitelné 3."
   ]
  },
  {
   "cell_type": "code",
   "execution_count": 5,
   "metadata": {},
   "outputs": [
    {
     "name": "stdout",
     "output_type": "stream",
     "text": [
      "Číslo není beze zbytku dělitelné 3.\n"
     ]
    }
   ],
   "source": [
    "cislo = 13\n",
    "if cislo % 3 == 0:\n",
    "    print(\"Číslo je beze zbytku dělitelné 3.\")\n",
    "else:\n",
    "    print(\"Číslo není beze zbytku dělitelné 3.\")"
   ]
  },
  {
   "cell_type": "markdown",
   "metadata": {},
   "source": [
    "---\n",
    "\n",
    "\n",
    "\n",
    "Uprav progam tak, aby zjistil, zda je číslo dělitelné 5 nebo 7."
   ]
  },
  {
   "cell_type": "code",
   "execution_count": 6,
   "metadata": {},
   "outputs": [
    {
     "name": "stdout",
     "output_type": "stream",
     "text": [
      "Číslo je beze zbytku dělitelné 5.\n"
     ]
    }
   ],
   "source": [
    "cislo = 35\n",
    "if cislo % 5 == 0:\n",
    "    print(\"Číslo je beze zbytku dělitelné 5.\")\n",
    "elif cislo % 7 == 0:\n",
    "     print(\"Číslo je beze zbytku dělitelné 7.\")\n",
    "else:\n",
    "    print(\"Číslo není beze zbytku dělitelné 5 ani 7.\")"
   ]
  }
 ],
 "metadata": {
  "kernelspec": {
   "display_name": "Python 3",
   "language": "python",
   "name": "python3"
  },
  "language_info": {
   "codemirror_mode": {
    "name": "ipython",
    "version": 3
   },
   "file_extension": ".py",
   "mimetype": "text/x-python",
   "name": "python",
   "nbconvert_exporter": "python",
   "pygments_lexer": "ipython3",
   "version": "3.13.0"
  }
 },
 "nbformat": 4,
 "nbformat_minor": 2
}
