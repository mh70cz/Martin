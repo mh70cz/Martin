{
 "cells": [
  {
   "cell_type": "markdown",
   "metadata": {},
   "source": [
    "Modulo operator %  \n",
    "Vypočítá **zbytek** po **celočíselném** dělení.\n",
    "\n",
    "11 % 3 = 2  \n",
    "5 % 2 = 1  \n",
    "4 % 2 = 0  "
   ]
  },
  {
   "cell_type": "code",
   "execution_count": 2,
   "metadata": {},
   "outputs": [
    {
     "name": "stdout",
     "output_type": "stream",
     "text": [
      "This digit is even.\n"
     ]
    }
   ],
   "source": [
    "digit = 8\n",
    "\n",
    "if digit % 2 == 0:\n",
    "    print(\"This digit is even.\")\n",
    "else:\n",
    "    print(\"This digit is odd.\")"
   ]
  },
  {
   "cell_type": "markdown",
   "metadata": {},
   "source": [
    "---\n",
    "\n",
    "\n",
    "\n",
    "Uprav progam tak, aby zjistil, zda je číslo dělitelné 3."
   ]
  },
  {
   "cell_type": "code",
   "execution_count": 4,
   "metadata": {},
   "outputs": [
    {
     "name": "stdout",
     "output_type": "stream",
     "text": [
      "Číslo je beze zbytku dělitelné 3.\n"
     ]
    }
   ],
   "source": [
    "cislo = 27\n",
    "if cislo % 3 == 0:\n",
    "    print(\"Číslo je beze zbytku dělitelné 3.\")\n",
    "else:\n",
    "    print(\"Číslo není beze zbytku dělitelné 3.\")"
   ]
  },
  {
   "cell_type": "markdown",
   "metadata": {},
   "source": [
    "---\n",
    "\n",
    "\n",
    "\n",
    "Uprav progam tak, aby zjistil, zda je číslo dělitelné 5 nebo 7."
   ]
  },
  {
   "cell_type": "code",
   "execution_count": 7,
   "metadata": {},
   "outputs": [
    {
     "name": "stdout",
     "output_type": "stream",
     "text": [
      "Číslo není beze zbytku dělitelné 5 ani 7.\n"
     ]
    }
   ],
   "source": [
    "cislo = 48\n",
    "if cislo % 5 == 0:\n",
    "    print(\"Číslo je beze zbytku dělitelné 5.\")\n",
    "elif cislo % 7 == 0:\n",
    "     print(\"Číslo je beze zbytku dělitelné 7.\")\n",
    "else:\n",
    "    print(\"Číslo není beze zbytku dělitelné 5 ani 7.\")"
   ]
  },
  {
   "cell_type": "code",
   "execution_count": 3,
   "metadata": {},
   "outputs": [
    {
     "name": "stdout",
     "output_type": "stream",
     "text": [
      "Twiggy is 5\n",
      "Twiggy is 7\n",
      "Growth spurt!\n",
      "Twiggy is 11\n"
     ]
    }
   ],
   "source": [
    "leaves = 3\n",
    "light = 1\n",
    "water = 1\n",
    "\n",
    "for day in range(3):\n",
    "    leaves = leaves + light \n",
    "    leaves = leaves + water\n",
    "    if leaves > 8:\n",
    "        leaves = leaves + 2\n",
    "        print(\"Growth spurt!\")\n",
    "    print(\"Twiggy is\", leaves)"
   ]
  }
 ],
 "metadata": {
  "kernelspec": {
   "display_name": "Python 3",
   "language": "python",
   "name": "python3"
  },
  "language_info": {
   "codemirror_mode": {
    "name": "ipython",
    "version": 3
   },
   "file_extension": ".py",
   "mimetype": "text/x-python",
   "name": "python",
   "nbconvert_exporter": "python",
   "pygments_lexer": "ipython3",
   "version": "3.13.0"
  }
 },
 "nbformat": 4,
 "nbformat_minor": 2
}
