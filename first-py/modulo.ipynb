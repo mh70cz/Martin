{
 "cells": [
  {
   "cell_type": "markdown",
   "metadata": {},
   "source": [
    "Modulo operator %  \n",
    "Vypočítá **zbytek** po **celočíselném** dělení.\n",
    "\n",
    "11 % 3 = 2  \n",
    "5 % 2 = 1  \n",
    "4 % 2 = 0  "
   ]
  },
  {
   "cell_type": "code",
   "execution_count": 2,
   "metadata": {},
   "outputs": [
    {
     "name": "stdout",
     "output_type": "stream",
     "text": [
      "This digit is even.\n"
     ]
    }
   ],
   "source": [
    "digit = 8\n",
    "\n",
    "if digit % 2 == 0:\n",
    "    print(\"This digit is even.\")\n",
    "else:\n",
    "    print(\"This digit is odd.\")"
   ]
  },
  {
   "cell_type": "markdown",
   "metadata": {},
   "source": [
    "---\n",
    "\n",
    "\n",
    "\n",
    "Uprav progam tak, aby zjistil, zda je číslo dělitelné 3."
   ]
  },
  {
   "cell_type": "code",
   "execution_count": 4,
   "metadata": {},
   "outputs": [
    {
     "name": "stdout",
     "output_type": "stream",
     "text": [
      "Číslo je beze zbytku dělitelné 3.\n"
     ]
    }
   ],
   "source": [
    "cislo = 27\n",
    "if cislo % 3 == 0:\n",
    "    print(\"Číslo je beze zbytku dělitelné 3.\")\n",
    "else:\n",
    "    print(\"Číslo není beze zbytku dělitelné 3.\")"
   ]
  },
  {
   "cell_type": "markdown",
   "metadata": {},
   "source": [
    "---\n",
    "\n",
    "\n",
    "\n",
    "Uprav progam tak, aby zjistil, zda je číslo dělitelné 5 nebo 7."
   ]
  },
  {
   "cell_type": "code",
   "execution_count": 7,
   "metadata": {},
   "outputs": [
    {
     "name": "stdout",
     "output_type": "stream",
     "text": [
      "Číslo není beze zbytku dělitelné 5 ani 7.\n"
     ]
    }
   ],
   "source": [
    "cislo = 48\n",
    "if cislo % 5 == 0:\n",
    "    print(\"Číslo je beze zbytku dělitelné 5.\")\n",
    "elif cislo % 7 == 0:\n",
    "     print(\"Číslo je beze zbytku dělitelné 7.\")\n",
    "else:\n",
    "    print(\"Číslo není beze zbytku dělitelné 5 ani 7.\")"
   ]
  },
  {
   "cell_type": "code",
   "execution_count": 3,
   "metadata": {},
   "outputs": [
    {
     "name": "stdout",
     "output_type": "stream",
     "text": [
      "Twiggy is 5\n",
      "Twiggy is 7\n",
      "Growth spurt!\n",
      "Twiggy is 11\n"
     ]
    }
   ],
   "source": [
    "leaves = 3\n",
    "light = 1\n",
    "water = 1\n",
    "\n",
    "for day in range(3):\n",
    "    leaves = leaves + light \n",
    "    leaves = leaves + water\n",
    "    if leaves > 8:\n",
    "        leaves = leaves + 2\n",
    "        print(\"Growth spurt!\")\n",
    "    print(\"Twiggy is\", leaves)"
   ]
  },
  {
   "cell_type": "code",
   "execution_count": 7,
   "metadata": {},
   "outputs": [
    {
     "name": "stdout",
     "output_type": "stream",
     "text": [
      "☁️ ☀️ ☁️ ☀️ ☁️ ☀️ ☁️ "
     ]
    }
   ],
   "source": [
    "is_sunny = False\n",
    "for i in range(7):\n",
    "  if is_sunny:\n",
    "    print(\"☀️\", end = \" \")\n",
    "  else:\n",
    "    print(\"☁️\", end = \" \")\n",
    "  is_sunny = not is_sunny"
   ]
  },
  {
   "cell_type": "code",
   "execution_count": 8,
   "metadata": {},
   "outputs": [
    {
     "name": "stdout",
     "output_type": "stream",
     "text": [
      "Twiggy is 91\n",
      "Twiggy is 91\n",
      "Twiggy is 91\n",
      "Twiggy is 96\n"
     ]
    }
   ],
   "source": [
    "daily_moods = [\"grumpy\", \"grumpy\", \"happy\", \"happy\"]\n",
    "leaves = 91\n",
    "is_sunny = False\n",
    "for mood in daily_moods:\n",
    "  if mood == \"happy\" and is_sunny:\n",
    "    leaves += 5\n",
    "  print(\"Twiggy is\", leaves)\n",
    "  is_sunny = not is_sunny"
   ]
  },
  {
   "cell_type": "code",
   "execution_count": 9,
   "metadata": {},
   "outputs": [
    {
     "name": "stdout",
     "output_type": "stream",
     "text": [
      "Twiggy is 91\n",
      "Twiggy is 96\n",
      "Twiggy is 101\n",
      "Twiggy is 106\n"
     ]
    }
   ],
   "source": [
    "daily_moods = [\"grumpy\", \"grumpy\", \"happy\", \"happy\"]\n",
    "leaves = 91\n",
    "is_sunny = False\n",
    "for mood in daily_moods:\n",
    "  if mood == \"happy\" or is_sunny:\n",
    "    leaves += 5\n",
    "  print(\"Twiggy is\", leaves)\n",
    "  is_sunny = not is_sunny"
   ]
  },
  {
   "cell_type": "code",
   "execution_count": 12,
   "metadata": {},
   "outputs": [
    {
     "name": "stdout",
     "output_type": "stream",
     "text": [
      "6\n"
     ]
    }
   ],
   "source": [
    "fan_on = True\n",
    "count = 0\n",
    "for minutes in range(11):\n",
    "  if fan_on:\n",
    "    count += 1\n",
    "  fan_on = not fan_on\n",
    "print(count)"
   ]
  },
  {
   "cell_type": "code",
   "execution_count": 13,
   "metadata": {},
   "outputs": [
    {
     "name": "stdout",
     "output_type": "stream",
     "text": [
      "Twiggy is 102\n",
      "Twiggy is 102\n",
      "Twiggy is 100\n",
      "Twiggy is 100\n",
      "Twiggy is 100\n",
      "Twiggy is 102\n",
      "Twiggy is 104\n"
     ]
    }
   ],
   "source": [
    "daily_visitors = [\"🪱\", None, \"🪲\", \"🪲\", None, \"🪱\", \"🪱\"]\n",
    "daily_temps = [12, 18, 21, 14, 16, 22, 24]\n",
    "leaves = 100\n",
    "for visitor, temp in zip(daily_visitors, daily_temps):\n",
    "  if visitor == \"🪱\":\n",
    "    leaves += 2\n",
    "  if visitor == \"🪲\" and temp >= 15:\n",
    "    leaves -= 2\n",
    "  print(\"Twiggy is\", leaves)"
   ]
  },
  {
   "cell_type": "code",
   "execution_count": 21,
   "metadata": {},
   "outputs": [
    {
     "name": "stdout",
     "output_type": "stream",
     "text": [
      "🪱 12 ☀️ jazz\n",
      "None 18 ☁️ rock\n",
      "🪲 21 ☀️ pop\n",
      "🪲 14 ☀️ pop\n",
      "None 16 ☁️ jazz\n",
      "🪱 22 ☀️ rock\n",
      "🪱 24 ☀️ rock\n"
     ]
    }
   ],
   "source": [
    "daily_visitors = [\"🪱\", None, \"🪲\", \"🪲\", None, \"🪱\", \"🪱\"]\n",
    "daily_temps = [12, 18, 21, 14, 16, 22, 24]\n",
    "daily_weather = [\"☀️\", \"☁️\", \"☀️\", \"☀️\", \"☁️\", \"☀️\", \"☀️\"]\n",
    "daily_music = [\"jazz\", \"rock\", \"pop\", \"pop\", \"jazz\", \"rock\", \"rock\"]\n",
    "\n",
    "# for visitor in daily_visitors:\n",
    "#     print(visitor)\n",
    "  \n",
    "# for temp in daily_temps:\n",
    "#     print(temp)\n",
    "\n",
    "z = zip(daily_visitors, daily_temps, daily_weather,daily_music)\n",
    "\n",
    "# print(list(z))\n",
    "\n",
    "\n",
    "for visitor, temp, weather, music in zip(daily_visitors, daily_temps, daily_weather, daily_music):\n",
    "    print(visitor, temp, weather, music)"
   ]
  },
  {
   "cell_type": "code",
   "execution_count": 29,
   "metadata": {},
   "outputs": [
    {
     "name": "stdout",
     "output_type": "stream",
     "text": [
      "-6\n"
     ]
    }
   ],
   "source": [
    "insects = [\"🐞\", \"🦟\", \"🦟\", \"🦋\",\"🦋\",\"🦋\",\"🦋\",\"🦋\", \"🐞\", \"🐞\", \"🦟\", \"🦟\", \"🪲\", \"🪲\",]\n",
    "count = 0\n",
    "for insect in insects:\n",
    "  if insect == '🦟':\n",
    "    count += 1\n",
    "  else:\n",
    "    count -= 1\n",
    "print(count)\n",
    "if count > 0:\n",
    "  print(\"🚨\")"
   ]
  },
  {
   "cell_type": "code",
   "execution_count": 37,
   "metadata": {},
   "outputs": [
    {
     "name": "stdout",
     "output_type": "stream",
     "text": [
      "original:  True\n",
      "var 2.:    True\n",
      "---\n",
      "original:  False\n",
      "var 2.:    False\n",
      "---\n",
      "original:  True\n",
      "var 2.:    True\n",
      "---\n",
      "original:  False\n",
      "var 2.:    False\n",
      "---\n",
      "original:  True\n",
      "var 2.:    True\n",
      "---\n",
      "original:  False\n",
      "var 2.:    False\n",
      "---\n",
      "original:  False\n",
      "var 2.:    False\n",
      "---\n"
     ]
    }
   ],
   "source": [
    "daily_friends = [\"🕊️\", \"🐝\", \"🕊️\", \"🦋\", \"🕊️\", \"🦋\", \"🐝\"]\n",
    "for friend in daily_friends:\n",
    "    print(\"original: \", not (friend == \"🐝\" or friend == \"🦋\"))\n",
    "    print(\"var 2.:   \", friend != \"🐝\" and friend != \"🦋\")\n",
    "    #  print(\"var 1.:   \", friend != \"🐝\" or friend != \"🦋\")\n",
    "    print (\"---\")"
   ]
  },
  {
   "cell_type": "code",
   "execution_count": 40,
   "metadata": {},
   "outputs": [
    {
     "name": "stdout",
     "output_type": "stream",
     "text": [
      "🥛\n",
      "🍇\n",
      "🧀\n",
      "2\n"
     ]
    }
   ],
   "source": [
    "basket = [\"🥛\", \"🍇\", \"🧀\"]\n",
    "dairy_count = 0\n",
    "for item in basket:\n",
    "  print(item)\n",
    "  if item == \"🧀\" or item == \"🥛\":\n",
    "    dairy_count += 1\n",
    "print(dairy_count)"
   ]
  },
  {
   "cell_type": "code",
   "execution_count": 50,
   "metadata": {},
   "outputs": [
    {
     "data": {
      "text/plain": [
       "501"
      ]
     },
     "execution_count": 50,
     "metadata": {},
     "output_type": "execute_result"
    }
   ],
   "source": [
    "3509 // 7\n"
   ]
  },
  {
   "cell_type": "code",
   "execution_count": null,
   "metadata": {},
   "outputs": [],
   "source": []
  }
 ],
 "metadata": {
  "kernelspec": {
   "display_name": "Python 3",
   "language": "python",
   "name": "python3"
  },
  "language_info": {
   "codemirror_mode": {
    "name": "ipython",
    "version": 3
   },
   "file_extension": ".py",
   "mimetype": "text/x-python",
   "name": "python",
   "nbconvert_exporter": "python",
   "pygments_lexer": "ipython3",
   "version": "3.13.0"
  }
 },
 "nbformat": 4,
 "nbformat_minor": 2
}
