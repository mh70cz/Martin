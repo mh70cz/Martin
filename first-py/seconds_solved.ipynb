{
 "cells": [
  {
   "cell_type": "code",
   "execution_count": 4,
   "metadata": {},
   "outputs": [
    {
     "name": "stdout",
     "output_type": "stream",
     "text": [
      "4 hours 8 minutes 46 seconds have total: 14926 seconds \n"
     ]
    }
   ],
   "source": [
    "hours = 4\n",
    "minutes = 8\n",
    "seconds = 46\n",
    "\n",
    "seconds_in_minute = 60\n",
    "seconds_in_hour = 60 * 60 # hour has 60 * 60 =  3600 seconds\n",
    "\n",
    "total_seconds = hours * seconds_in_hour + minutes * seconds_in_minute + seconds\n",
    "\n",
    "text = str(hours) + \" hours \"\n",
    "text = text + str(minutes) + \" minutes \"\n",
    "text = text + str(seconds) + \" seconds \"\n",
    "text = text + \"have total: \" \n",
    "text = text + str(total_seconds) + \" seconds \" \n",
    "\n",
    "print(text)\n",
    "\n"
   ]
  },
  {
   "cell_type": "code",
   "execution_count": 7,
   "metadata": {},
   "outputs": [
    {
     "name": "stdout",
     "output_type": "stream",
     "text": [
      "2 days 4 hours 8 minutes 46 seconds have total: 187726 seconds \n"
     ]
    }
   ],
   "source": [
    "days = 2\n",
    "hours = 4\n",
    "minutes = 8\n",
    "seconds = 46\n",
    "\n",
    "seconds_in_minute = 60\n",
    "seconds_in_hour = 60 * 60 # hour has 60*60 =  3600 seconds\n",
    "seconds_in_day = 24 * 60 * 60 # day has 24 hours i.e 24 * 60 * 60 = 86400\n",
    "\n",
    "# total_seconds = days * seconds_in_day + hours * seconds_in_hour + minutes * seconds_in_minute + seconds\n",
    "\n",
    "total_seconds = days * seconds_in_day \n",
    "total_seconds = total_seconds + hours * seconds_in_hour \n",
    "total_seconds = total_seconds + minutes * seconds_in_minute \n",
    "total_seconds = total_seconds + seconds\n",
    "\n",
    "text = str(days) + \" days \"\n",
    "text = text + str(hours) + \" hours \"\n",
    "text = text + str(minutes) + \" minutes \"\n",
    "text = text + str(seconds) + \" seconds \"\n",
    "text = text + \"have total: \" \n",
    "text = text + str(total_seconds) + \" seconds \" \n",
    "\n",
    "print(text)"
   ]
  },
  {
   "cell_type": "code",
   "execution_count": 10,
   "metadata": {},
   "outputs": [
    {
     "name": "stdout",
     "output_type": "stream",
     "text": [
      "3 weeks 2 days 4 hours 8 minutes 46 seconds have total: 4004252 seconds \n"
     ]
    }
   ],
   "source": [
    "weeks = 3\n",
    "days = 2\n",
    "hours = 4\n",
    "minutes = 8\n",
    "seconds = 46\n",
    "\n",
    "seconds_in_minute = 60\n",
    "seconds_in_hour = 60 * seconds_in_minute # hour has 60 seconds\n",
    "seconds_in_day = 24 * seconds_in_hour # day has 24 hours\n",
    "seconds_in_week = 7 * seconds_in_day # week has 7 days \n",
    "\n",
    "# total_seconds = weeks* seconds_in_week + days * seconds_in_day + hours * seconds_in_hour + minutes * seconds_in_minute + seconds\n",
    "total_seconds += weeks * seconds_in_week\n",
    "total_seconds += days * seconds_in_day \n",
    "total_seconds += hours * seconds_in_hour \n",
    "total_seconds += minutes * seconds_in_minute \n",
    "total_seconds += seconds\n",
    "\n",
    "text = str(weeks) + \" weeks \"\n",
    "text += str(days) + \" days \"\n",
    "text += str(hours) + \" hours \"\n",
    "text += str(minutes) + \" minutes \"\n",
    "text += str(seconds) + \" seconds \"\n",
    "text += \"have total: \" \n",
    "text += str(total_seconds) + \" seconds \" \n",
    "\n",
    "print(text)\n"
   ]
  }
 ],
 "metadata": {
  "kernelspec": {
   "display_name": "Python 3",
   "language": "python",
   "name": "python3"
  },
  "language_info": {
   "codemirror_mode": {
    "name": "ipython",
    "version": 3
   },
   "file_extension": ".py",
   "mimetype": "text/x-python",
   "name": "python",
   "nbconvert_exporter": "python",
   "pygments_lexer": "ipython3",
   "version": "3.13.0"
  }
 },
 "nbformat": 4,
 "nbformat_minor": 2
}
