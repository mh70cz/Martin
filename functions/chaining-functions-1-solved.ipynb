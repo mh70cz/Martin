{
 "cells": [
  {
   "cell_type": "code",
   "execution_count": 35,
   "id": "f9095fec",
   "metadata": {},
   "outputs": [],
   "source": [
    "from math import ceil, floor"
   ]
  },
  {
   "cell_type": "code",
   "execution_count": 36,
   "id": "0e0fa15b",
   "metadata": {},
   "outputs": [
    {
     "name": "stdout",
     "output_type": "stream",
     "text": [
      "rounded num: 1\n",
      "ceiled num:  2\n",
      "flooerd num: 1\n"
     ]
    }
   ],
   "source": [
    "num = 1.3\n",
    "rounded_num = round(num)\n",
    "ceiled_num = ceil(num)\n",
    "flooerd_num= floor(num)\n",
    "\n",
    "print(\"rounded num:\", rounded_num)\n",
    "print(\"ceiled num: \", ceiled_num)\n",
    "print(\"flooerd num:\", flooerd_num)"
   ]
  },
  {
   "cell_type": "markdown",
   "id": "f44f7673",
   "metadata": {},
   "source": [
    "As a chef, I want to know how many omelets I can prepare using a specific number of egg-cartons.  \n",
    "Each egg-carton holds 12 eggs, and each omelet requires 3 eggs."
   ]
  },
  {
   "cell_type": "code",
   "execution_count": 21,
   "id": "367703b0",
   "metadata": {},
   "outputs": [
    {
     "name": "stdout",
     "output_type": "stream",
     "text": [
      "You can make 32.0 omelettes with 8 cartons of eggs.\n"
     ]
    }
   ],
   "source": [
    "def get_num_eggs(cartons):\n",
    "  # returns number eggs in given number of cartons\n",
    "  return 12 * cartons\n",
    "\n",
    "def get_num_omelettes(eggs):\n",
    "  # retuns number of omelets which can be done from given number of eggs\n",
    "  return eggs/3\n",
    "\n",
    "cartons = 8\n",
    "\n",
    "num_eggs = get_num_eggs(cartons)\n",
    "num_omelettes = get_num_omelettes(num_eggs)\n",
    "\n",
    "print(\"You can make\", num_omelettes, \"omelettes with\", cartons, \"cartons of eggs.\")"
   ]
  },
  {
   "cell_type": "code",
   "execution_count": null,
   "id": "4ab85b81",
   "metadata": {},
   "outputs": [
    {
     "name": "stdout",
     "output_type": "stream",
     "text": [
      "You can make 32.0 omelettes with 11 cartons of eggs.\n"
     ]
    }
   ],
   "source": [
    "def get_num_eggs(cartons):\n",
    "  # returns number eggs in given number of cartons\n",
    "  return 12 * cartons\n",
    "\n",
    "def get_num_omelettes(eggs):\n",
    "  # retuns number of omelets which can be done from given number of eggs\n",
    "  return eggs/3\n",
    "\n",
    "cartons = 8\n",
    "\n",
    "print(\"You can make\", get_num_omelettes(get_num_eggs(cartons)), \"omelettes with\", cartons, \"cartons of eggs.\")"
   ]
  },
  {
   "cell_type": "markdown",
   "id": "edc4144b",
   "metadata": {},
   "source": [
    "Assignment 1:   Cookie Party Quest  \n",
    "You’re baking for a cookie party! Write a story about a magical baker who uses the dough_balls_from_flour and cookies_from_dough_balls functions. How many cups of flour does the baker start with? Use the functions to figure out how many cookies they make. Then, describe how they decorate the cookies (like chocolate chips or sprinkles) and who they share them with (friends, dragons, or maybe aliens!)."
   ]
  },
  {
   "cell_type": "code",
   "execution_count": 8,
   "id": "21796a1c",
   "metadata": {},
   "outputs": [
    {
     "name": "stdout",
     "output_type": "stream",
     "text": [
      "With 4 cups of flour, you can make 24 cookies! 🍪\n"
     ]
    }
   ],
   "source": [
    "def dough_balls_from_flour(cups):\n",
    "    # Each cup of flour makes 2 dough balls\n",
    "    return cups * 2\n",
    "\n",
    "def cookies_from_dough_balls(balls):\n",
    "    # Each dough ball makes 3 cookies\n",
    "    return balls * 3\n",
    "\n",
    "flour_cups = 4\n",
    "dough_balls = dough_balls_from_flour(flour_cups)\n",
    "cookies = cookies_from_dough_balls(dough_balls)\n",
    "\n",
    "print(\"With\", flour_cups, \"cups of flour, you can make\", cookies, \"cookies! 🍪\")"
   ]
  },
  {
   "cell_type": "markdown",
   "id": "547fc793",
   "metadata": {},
   "source": [
    "Assignment 2:  Bubble Adventure   \n",
    "Imagine you’re a fish explorer in a magical pond world! Write a story where you discover a number of ponds. Use the fish_from_ponds and bubbles_from_fish functions to find out how many fish and bubbles you see. Pick a number of ponds (like 2 or 5), run the functions, and write about what the fish look like (sparkly? rainbow-colored?) and what you do with all those bubbles (make a bubble castle?)."
   ]
  },
  {
   "cell_type": "code",
   "execution_count": 7,
   "id": "8b60da20",
   "metadata": {},
   "outputs": [
    {
     "name": "stdout",
     "output_type": "stream",
     "text": [
      "3 ponds have 15 fish, which blow 150  bubbles! 🐟💨\n"
     ]
    }
   ],
   "source": [
    "def fish_from_ponds(ponds):\n",
    "    # Each pond has 5 fish\n",
    "    return ponds * 5\n",
    "\n",
    "def bubbles_from_fish(fish):\n",
    "    # Each fish blows 10 bubbles\n",
    "    return fish * 10\n",
    "\n",
    "ponds = 3\n",
    "fish = fish_from_ponds(ponds)\n",
    "bubbles = bubbles_from_fish(fish)\n",
    "print(ponds, \"ponds have\",fish, \"fish, which blow\",bubbles, \" bubbles! 🐟💨\")"
   ]
  },
  {
   "cell_type": "markdown",
   "id": "e34354c6",
   "metadata": {},
   "source": [
    "Assignment 3: Pizza Party Planner  \n",
    "You’re throwing a huge pizza party! Write a story about inviting some friends (pick a number of guests, like 4 or 7). Use the pizzas_from_guests, toppings_from_pizzas, and slices_from_pizza functions to find out how many pizzas and slices you’ll have. "
   ]
  },
  {
   "cell_type": "code",
   "execution_count": 7,
   "id": "3d4005e4",
   "metadata": {},
   "outputs": [
    {
     "name": "stdout",
     "output_type": "stream",
     "text": [
      "6 guests get 9.0 pizzas making 108.0 slices! 🍕\n"
     ]
    }
   ],
   "source": [
    "# Start with guests, make pizzas, then slice them up!\n",
    "\n",
    "def pizzas_from_guests(guests):\n",
    "    # Each guest needs one and half pizza\n",
    "    return guests * 1.5\n",
    "\n",
    "def slices_from_pizzas(pizzas):\n",
    "    # Each pizza has 12 slices\n",
    "    return pizzas * 12\n",
    "\n",
    "guests = 6\n",
    "pizzas = pizzas_from_guests(guests)\n",
    "slices = slices_from_pizzas(pizzas)\n",
    "print(guests, \"guests get\", pizzas, \"pizzas making\", slices, \"slices! 🍕\")"
   ]
  },
  {
   "cell_type": "markdown",
   "id": "51a9f22a",
   "metadata": {},
   "source": [
    "Assignment 4: Library Wizard   \n",
    "You’re a wizard in a magical library! Write a story about finding a certain number of enchanted books. Use the pages_from_books and words_from_pages functions to discover how many pages and words are in them. Choose a number of books (like 3 or 6), run the functions, and describe what kind of stories the books hold (adventure? magic spells?) and what you do with all those words (create a giant poem? cast a spell?)."
   ]
  },
  {
   "cell_type": "code",
   "execution_count": 9,
   "id": "6a2d178c",
   "metadata": {},
   "outputs": [
    {
     "name": "stdout",
     "output_type": "stream",
     "text": [
      "2 books have 434 pages with 21700 words! 📚\n"
     ]
    }
   ],
   "source": [
    "def pages_from_books(books):\n",
    "    # Each book has 217 pages\n",
    "    return books * 217\n",
    "\n",
    "def words_from_pages(pages):\n",
    "    # Each page has 50 words\n",
    "    return pages * 50\n",
    "\n",
    "books = 2\n",
    "pages = pages_from_books(books)\n",
    "words = words_from_pages(pages)\n",
    "print(books, \"books have\", pages, \"pages with\", words, \"words! 📚\")"
   ]
  },
  {
   "cell_type": "markdown",
   "id": "dee8ea5a",
   "metadata": {},
   "source": [
    "Assignment 5: Superhero Academy   \n",
    "You’re the leader of a superhero school! Write a story about training some heroes (choose a number, like 2 or 5). Use the powers_from_heroes, moves_from_powers, and points_from_moves functions to calculate their powers, moves, and points. Describe what kind of powers they have (flying, invisibility, or super speed?) and how they use their moves to save the day (stop a robot? save a cat?)"
   ]
  },
  {
   "cell_type": "code",
   "execution_count": 11,
   "id": "e4513efb",
   "metadata": {},
   "outputs": [
    {
     "name": "stdout",
     "output_type": "stream",
     "text": [
      "3 superheroes have 9 powers, perform 36 moves, and earn 360 points! 🦸\n"
     ]
    }
   ],
   "source": [
    "# Start with heroes, give them powers, then count their super moves!\n",
    "\n",
    "def powers_from_heroes(heroes):\n",
    "    # Each hero gets 3 powers\n",
    "    return heroes * 3\n",
    "\n",
    "def moves_from_powers(powers):\n",
    "    # Each power gives 4 super moves\n",
    "    return powers * 4\n",
    "\n",
    "def points_from_moves(moves):\n",
    "    # Each move earns 10 points\n",
    "    return moves * 10\n",
    "\n",
    "heroes = 3\n",
    "powers = powers_from_heroes(heroes)\n",
    "moves = moves_from_powers(powers)\n",
    "points = points_from_moves(moves)\n",
    "print(heroes, \"superheroes have\", powers, \"powers, perform\", moves, \"moves, and earn\", points, \"points! 🦸\")"
   ]
  },
  {
   "cell_type": "markdown",
   "id": "2cd749f5",
   "metadata": {},
   "source": [
    "Assignment 6: Toy Factory Adventure  \n",
    "You run a magical toy factory! Write a story about hiring some workers (pick a number, like 3 or 6). Use the toys_from_workers, boxes_from_toys, and trucks_from_boxes functions to find out how many toys, boxes, and trucks you’ll need. Describe what kind of toys you’re making (robots, stuffed animals, or magic wands?) and where the trucks take them (to kids, elves, or a toy museum?)."
   ]
  },
  {
   "cell_type": "code",
   "execution_count": 32,
   "id": "dd31bac0",
   "metadata": {},
   "outputs": [
    {
     "name": "stdout",
     "output_type": "stream",
     "text": [
      "4 workers make 24 toys, packed in 8.0 boxes, shipped in 2 trucks! 🚚\n"
     ]
    }
   ],
   "source": [
    "# Start with workers, make toys, then pack them in boxes!\n",
    "\n",
    "def toys_from_workers(workers):\n",
    "    # Each worker makes 6 toys\n",
    "    return workers * 6\n",
    "\n",
    "def boxes_from_toys(toys):\n",
    "    # Each box holds 3 toys\n",
    "    return toys / 3\n",
    "\n",
    "def trucks_from_boxes(boxes):\n",
    "    # Each truck carries 5 boxes\n",
    "    return ceil(boxes / 5)\n",
    "\n",
    "workers = 4\n",
    "toys = toys_from_workers(workers)\n",
    "boxes = boxes_from_toys(toys)\n",
    "trucks = trucks_from_boxes(boxes)\n",
    "print(workers, \"workers make\", toys, \"toys, packed in\", boxes, \"boxes, shipped in\", trucks, \"trucks! 🚚\")"
   ]
  },
  {
   "cell_type": "code",
   "execution_count": 33,
   "id": "b0bce76b",
   "metadata": {},
   "outputs": [],
   "source": [
    "\n",
    "%reset -f"
   ]
  }
 ],
 "metadata": {
  "kernelspec": {
   "display_name": "Python 3",
   "language": "python",
   "name": "python3"
  },
  "language_info": {
   "codemirror_mode": {
    "name": "ipython",
    "version": 3
   },
   "file_extension": ".py",
   "mimetype": "text/x-python",
   "name": "python",
   "nbconvert_exporter": "python",
   "pygments_lexer": "ipython3",
   "version": "3.13.0"
  }
 },
 "nbformat": 4,
 "nbformat_minor": 5
}
