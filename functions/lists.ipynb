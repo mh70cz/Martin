{
 "cells": [
  {
   "cell_type": "code",
   "execution_count": null,
   "id": "371ee0f4",
   "metadata": {},
   "outputs": [
    {
     "data": {
      "text/plain": [
       "15.875"
      ]
     },
     "execution_count": 3,
     "metadata": {},
     "output_type": "execute_result"
    }
   ],
   "source": [
    "from math import ceil, floor\n",
    "\n"
   ]
  },
  {
   "cell_type": "code",
   "execution_count": 3,
   "id": "274bcfad",
   "metadata": {},
   "outputs": [
    {
     "name": "stdout",
     "output_type": "stream",
     "text": [
      "[12, 14, 19, 11, 16, None]\n"
     ]
    }
   ],
   "source": [
    "daily_soil = [] # empty list\n",
    "\n",
    "daily_soil.append(12)\n",
    "daily_soil.append(14)\n",
    "daily_soil.append(19)\n",
    "daily_soil.append(11)\n",
    "daily_soil.append(16)\n",
    "\n",
    "daily_soil.append(None)\n",
    "print(daily_soil)\n",
    "\n",
    "\n",
    "\n",
    "\n",
    "# print(daily_soil)"
   ]
  },
  {
   "cell_type": "code",
   "execution_count": null,
   "id": "38915318",
   "metadata": {},
   "outputs": [],
   "source": [
    "%reset -f"
   ]
  },
  {
   "cell_type": "code",
   "execution_count": null,
   "id": "9b6abdc3",
   "metadata": {},
   "outputs": [],
   "source": [
    "def fruits_from_soil(soil):\n",
    "  return round(soil / 10)\n",
    "\n",
    "daily_soil = [12,14,19,11,16]\n",
    "daily_fruits = []\n",
    "for soil in daily_soil:\n",
    "  f = fruits_from_soil(soil)\n",
    "\n",
    "print(\"Daily fruit growth:\", daily_fruits)"
   ]
  },
  {
   "cell_type": "code",
   "execution_count": null,
   "id": "24f14c62",
   "metadata": {},
   "outputs": [
    {
     "name": "stdout",
     "output_type": "stream",
     "text": [
      "Daily fruit growth: [1, 1, 2, 1, 2]\n"
     ]
    }
   ],
   "source": [
    "def fruits_from_soil(soil):\n",
    "  return round(soil / 10)\n",
    "\n",
    "daily_soil = [12,14,19,11,16]\n",
    "daily_fruits = []\n",
    "for soil in daily_soil:\n",
    "  f = fruits_from_soil(soil)\n",
    "  daily_fruits.append(f)\n",
    "\n",
    "print(\"Daily fruit growth:\", daily_fruits)"
   ]
  },
  {
   "cell_type": "code",
   "execution_count": null,
   "id": "93ca1646",
   "metadata": {},
   "outputs": [],
   "source": [
    "def fruits_from_soil(soil):\n",
    "  return round(soil / 10)\n",
    "\n",
    "fruits = 7\n",
    "daily_soil = [12,14,19,11,16]\n",
    "daily_fruits = []\n",
    "for soil in daily_soil:\n",
    "  f = fruits_from_soil(soil)\n",
    "  daily_fruits.append(f)\n",
    "\n",
    "fruits += sum(daily_fruits)\n",
    "\n",
    "print(\"Fruits:\", fruits)"
   ]
  }
 ],
 "metadata": {
  "kernelspec": {
   "display_name": "Python 3",
   "language": "python",
   "name": "python3"
  },
  "language_info": {
   "codemirror_mode": {
    "name": "ipython",
    "version": 3
   },
   "file_extension": ".py",
   "mimetype": "text/x-python",
   "name": "python",
   "nbconvert_exporter": "python",
   "pygments_lexer": "ipython3",
   "version": "3.13.0"
  }
 },
 "nbformat": 4,
 "nbformat_minor": 5
}
