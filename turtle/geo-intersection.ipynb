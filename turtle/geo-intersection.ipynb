{
 "cells": [
  {
   "cell_type": "code",
   "execution_count": 2,
   "metadata": {},
   "outputs": [
    {
     "name": "stdout",
     "output_type": "stream",
     "text": [
      "Southern intersection point z:\n",
      "Latitude:  50.047198\n",
      "Longitude: 14.427123\n"
     ]
    }
   ],
   "source": [
    "import math\n",
    "\n",
    "# Convert degrees and minutes to decimal degrees.\n",
    "def dm_to_dd(degrees, minutes):\n",
    "    return degrees + minutes / 60.0\n",
    "\n",
    "# --- Input: points in degrees and minutes ---\n",
    "# Point x: N 50° 04.980' E 014° 23.863'\n",
    "x_lat = dm_to_dd(50, 4.980)\n",
    "x_lon = dm_to_dd(14, 23.863)\n",
    "\n",
    "# Point y: N 50° 05.250' E 014° 25.283'\n",
    "y_lat = dm_to_dd(50, 5.250)\n",
    "y_lon = dm_to_dd(14, 25.283)\n",
    "\n",
    "# Given distance in meters (circle radius)\n",
    "d = 4500.0\n",
    "\n",
    "# For small areas we can use an equirectangular approximation.\n",
    "# We choose point x as the origin of our local coordinate system.\n",
    "# We also use the average latitude to compute the scaling for longitude.\n",
    "lat0 = x_lat\n",
    "lon0 = x_lon\n",
    "lat_ref = math.radians((x_lat + y_lat) / 2)\n",
    "R_earth = 6371000  # Earth radius in meters\n",
    "\n",
    "def latlon_to_xy(lat, lon, lat0, lon0, lat_ref):\n",
    "    \"\"\"\n",
    "    Converts lat/lon in decimal degrees to local x/y (in meters)\n",
    "    using an equirectangular projection with (lat0, lon0) as the origin.\n",
    "    \"\"\"\n",
    "    # differences in radians:\n",
    "    dlon = math.radians(lon - lon0)\n",
    "    dlat = math.radians(lat - lat0)\n",
    "    x = R_earth * dlon * math.cos(lat_ref)\n",
    "    y = R_earth * dlat\n",
    "    return (x, y)\n",
    "\n",
    "def xy_to_latlon(x, y, lat0, lon0, lat_ref):\n",
    "    \"\"\"\n",
    "    Converts local x/y coordinates (in meters) back to lat/lon in decimal degrees.\n",
    "    \"\"\"\n",
    "    dlat = y / R_earth  # in radians\n",
    "    dlon = x / (R_earth * math.cos(lat_ref))  # in radians\n",
    "    lat = lat0 + math.degrees(dlat)\n",
    "    lon = lon0 + math.degrees(dlon)\n",
    "    return (lat, lon)\n",
    "\n",
    "# Convert the two given points to local coordinates.\n",
    "# We set point x as (0,0).\n",
    "x_coord = (0.0, 0.0)\n",
    "y_coord = latlon_to_xy(y_lat, y_lon, lat0, lon0, lat_ref)\n",
    "\n",
    "# Compute the distance between the centers in the local coordinate system.\n",
    "dx = y_coord[0] - x_coord[0]\n",
    "dy = y_coord[1] - x_coord[1]\n",
    "d_centers = math.hypot(dx, dy)\n",
    "\n",
    "if d_centers > 2 * d:\n",
    "    raise ValueError(\"The circles do not intersect (centers are too far apart).\")\n",
    "\n",
    "# Compute the midpoint between the two centers.\n",
    "mid_x = (x_coord[0] + y_coord[0]) / 2.0\n",
    "mid_y = (x_coord[1] + y_coord[1]) / 2.0\n",
    "\n",
    "# Distance from the first center to the midpoint.\n",
    "a = d_centers / 2.0\n",
    "# Height from the midpoint to the intersection points.\n",
    "h = math.sqrt(d**2 - a**2)\n",
    "\n",
    "# The intersection points are given by offsetting the midpoint perpendicularly to the line joining the centers.\n",
    "# The perpendicular to (dx, dy) is (-dy, dx).\n",
    "offset_x = -dy * (h / d_centers)\n",
    "offset_y =  dx * (h / d_centers)\n",
    "\n",
    "# Compute the two potential intersection points.\n",
    "p1 = (mid_x + offset_x, mid_y + offset_y)\n",
    "p2 = (mid_x - offset_x, mid_y - offset_y)\n",
    "\n",
    "# Select the southern point (i.e. the one with the lower northing, i.e. lower y).\n",
    "if p1[1] < p2[1]:\n",
    "    chosen = p1\n",
    "else:\n",
    "    chosen = p2\n",
    "\n",
    "# Convert the chosen local point back to latitude and longitude.\n",
    "z_lat, z_lon = xy_to_latlon(chosen[0], chosen[1], lat0, lon0, lat_ref)\n",
    "\n",
    "print(\"Southern intersection point z:\")\n",
    "print(\"Latitude:  {:.6f}\".format(z_lat))\n",
    "print(\"Longitude: {:.6f}\".format(z_lon))\n"
   ]
  },
  {
   "cell_type": "code",
   "execution_count": 3,
   "metadata": {},
   "outputs": [
    {
     "name": "stdout",
     "output_type": "stream",
     "text": [
      "50.047198N, 14.427123E\n"
     ]
    }
   ],
   "source": [
    "print(\"{:.6f}N\".format(z_lat) + \", \" +  \"{:.6f}E\".format(z_lon) )"
   ]
  }
 ],
 "metadata": {
  "kernelspec": {
   "display_name": "Python 3",
   "language": "python",
   "name": "python3"
  },
  "language_info": {
   "codemirror_mode": {
    "name": "ipython",
    "version": 3
   },
   "file_extension": ".py",
   "mimetype": "text/x-python",
   "name": "python",
   "nbconvert_exporter": "python",
   "pygments_lexer": "ipython3",
   "version": "3.13.0"
  }
 },
 "nbformat": 4,
 "nbformat_minor": 2
}
